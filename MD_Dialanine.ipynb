{
 "cells": [
  {
   "cell_type": "code",
   "execution_count": 1,
   "id": "89e81349-058e-474b-beb4-3db2eb382fa7",
   "metadata": {},
   "outputs": [
    {
     "data": {
      "application/vnd.jupyter.widget-view+json": {
       "model_id": "68544d56e757465d9c23873c2b82a146",
       "version_major": 2,
       "version_minor": 0
      },
      "text/plain": []
     },
     "metadata": {},
     "output_type": "display_data"
    }
   ],
   "source": [
    "import molsysmt as msm\n",
    "import pyunitwizard as puw"
   ]
  },
  {
   "cell_type": "code",
   "execution_count": 2,
   "id": "4eb421f4-9ef2-45c7-ae74-39e6b846ae8a",
   "metadata": {},
   "outputs": [],
   "source": [
    "import openmm as mm\n",
    "from openmm import unit\n",
    "from openmm import app\n",
    "from tqdm import tqdm\n",
    "import numpy as np"
   ]
  },
  {
   "cell_type": "code",
   "execution_count": 3,
   "id": "64f19c68-ff92-4976-b047-06f9afcb23ac",
   "metadata": {},
   "outputs": [],
   "source": [
    "dialanine = msm.build.build_peptide('AceAlaNme')"
   ]
  },
  {
   "cell_type": "code",
   "execution_count": 4,
   "id": "cc80a813-0f86-4b6d-91ee-80ba1238f4f6",
   "metadata": {},
   "outputs": [],
   "source": [
    "msm.structure.center(dialanine, in_place=True)"
   ]
  },
  {
   "cell_type": "code",
   "execution_count": 5,
   "id": "3770bb2c-49a3-4fac-942c-7a31ee7c2a4f",
   "metadata": {},
   "outputs": [],
   "source": [
    "dialanine = msm.build.solvate(dialanine, box_shape='cubic',\n",
    "                              clearance='14.0 angstroms')"
   ]
  },
  {
   "cell_type": "code",
   "execution_count": 6,
   "id": "fe8c986b-3d6b-4d09-ba7a-2243fb5c663d",
   "metadata": {},
   "outputs": [
    {
     "data": {
      "text/html": [
       "<style type=\"text/css\">\n",
       "</style>\n",
       "<table id=\"T_9bea8\">\n",
       "  <thead>\n",
       "    <tr>\n",
       "      <th id=\"T_9bea8_level0_col0\" class=\"col_heading level0 col0\" >form</th>\n",
       "      <th id=\"T_9bea8_level0_col1\" class=\"col_heading level0 col1\" >n_atoms</th>\n",
       "      <th id=\"T_9bea8_level0_col2\" class=\"col_heading level0 col2\" >n_groups</th>\n",
       "      <th id=\"T_9bea8_level0_col3\" class=\"col_heading level0 col3\" >n_components</th>\n",
       "      <th id=\"T_9bea8_level0_col4\" class=\"col_heading level0 col4\" >n_chains</th>\n",
       "      <th id=\"T_9bea8_level0_col5\" class=\"col_heading level0 col5\" >n_molecules</th>\n",
       "      <th id=\"T_9bea8_level0_col6\" class=\"col_heading level0 col6\" >n_entities</th>\n",
       "      <th id=\"T_9bea8_level0_col7\" class=\"col_heading level0 col7\" >n_waters</th>\n",
       "      <th id=\"T_9bea8_level0_col8\" class=\"col_heading level0 col8\" >n_peptides</th>\n",
       "      <th id=\"T_9bea8_level0_col9\" class=\"col_heading level0 col9\" >n_structures</th>\n",
       "    </tr>\n",
       "  </thead>\n",
       "  <tbody>\n",
       "    <tr>\n",
       "      <td id=\"T_9bea8_row0_col0\" class=\"data row0 col0\" >molsysmt.MolSys</td>\n",
       "      <td id=\"T_9bea8_row0_col1\" class=\"data row0 col1\" >2050</td>\n",
       "      <td id=\"T_9bea8_row0_col2\" class=\"data row0 col2\" >679</td>\n",
       "      <td id=\"T_9bea8_row0_col3\" class=\"data row0 col3\" >677</td>\n",
       "      <td id=\"T_9bea8_row0_col4\" class=\"data row0 col4\" >2</td>\n",
       "      <td id=\"T_9bea8_row0_col5\" class=\"data row0 col5\" >677</td>\n",
       "      <td id=\"T_9bea8_row0_col6\" class=\"data row0 col6\" >2</td>\n",
       "      <td id=\"T_9bea8_row0_col7\" class=\"data row0 col7\" >676</td>\n",
       "      <td id=\"T_9bea8_row0_col8\" class=\"data row0 col8\" >1</td>\n",
       "      <td id=\"T_9bea8_row0_col9\" class=\"data row0 col9\" >1</td>\n",
       "    </tr>\n",
       "  </tbody>\n",
       "</table>\n"
      ],
      "text/plain": [
       "<pandas.io.formats.style.Styler at 0x7f728b497a40>"
      ]
     },
     "execution_count": 6,
     "metadata": {},
     "output_type": "execute_result"
    }
   ],
   "source": [
    "msm.info(dialanine)"
   ]
  },
  {
   "cell_type": "code",
   "execution_count": 7,
   "id": "1251bda5-355f-4835-a96d-f96a84c5869b",
   "metadata": {},
   "outputs": [],
   "source": [
    "topology = msm.convert(dialanine, to_form='openmm.topology')"
   ]
  },
  {
   "cell_type": "code",
   "execution_count": 8,
   "id": "177c211c-4872-49fe-bb33-cacf484e8abc",
   "metadata": {},
   "outputs": [],
   "source": [
    "positions = msm.get(dialanine, coordinates=True)\n",
    "positions = puw.convert(positions[0], to_form='openmm.unit')"
   ]
  },
  {
   "cell_type": "code",
   "execution_count": 9,
   "id": "89da48d1-d8d1-4107-b3cb-5f481afa75c6",
   "metadata": {},
   "outputs": [],
   "source": [
    "forcefield = app.ForceField(\"amber14-all.xml\", \"amber14/tip3p.xml\")"
   ]
  },
  {
   "cell_type": "code",
   "execution_count": 10,
   "id": "f7230ead-a76c-433c-bd2e-fd1af01c9946",
   "metadata": {},
   "outputs": [],
   "source": [
    "system = forcefield.createSystem(topology, nonbondedMethod=app.PME, nonbondedCutoff=1.2*unit.nanometers, constraints=app.HBonds)"
   ]
  },
  {
   "cell_type": "code",
   "execution_count": 11,
   "id": "f7a46174-f04d-4b8f-b9a9-e3cbe43c8009",
   "metadata": {},
   "outputs": [],
   "source": [
    "#system.addForce(app.MonteCarloBarostat(1*unit.atmosphere, 400*kelvin, 25))"
   ]
  },
  {
   "cell_type": "code",
   "execution_count": 12,
   "id": "c050ea70-7d4f-4785-ba9a-4d70f310a0f3",
   "metadata": {},
   "outputs": [],
   "source": [
    "temperature = 400*unit.kelvin\n",
    "friction = 1.0/unit.picosecond\n",
    "timestep = 2.0*unit.femtoseconds\n",
    "integrator = mm.LangevinIntegrator(temperature, friction, timestep)"
   ]
  },
  {
   "cell_type": "code",
   "execution_count": 13,
   "id": "3c47eab6-5afa-432a-9cb2-4b70e40413cc",
   "metadata": {},
   "outputs": [],
   "source": [
    "platform = mm.Platform.getPlatformByName('CUDA')"
   ]
  },
  {
   "cell_type": "code",
   "execution_count": 14,
   "id": "4f734c7b-d8ae-4b6a-b453-28bfb26afd9e",
   "metadata": {},
   "outputs": [],
   "source": [
    "simulation = app.Simulation(topology, system, integrator, platform)\n",
    "simulation.context.setPositions(positions)"
   ]
  },
  {
   "cell_type": "code",
   "execution_count": 15,
   "id": "64b82714-b36b-426e-bd88-ef232afa7ec7",
   "metadata": {},
   "outputs": [],
   "source": [
    "simulation.minimizeEnergy()"
   ]
  },
  {
   "cell_type": "code",
   "execution_count": 16,
   "id": "45dda02f-0bda-462f-9c9a-72a98a8b229b",
   "metadata": {},
   "outputs": [],
   "source": [
    "simulation.context.setVelocitiesToTemperature(temperature)"
   ]
  },
  {
   "cell_type": "code",
   "execution_count": 17,
   "id": "858d5d57-c38f-4d96-b96d-eca558e2073e",
   "metadata": {},
   "outputs": [],
   "source": [
    "md_time = 500*unit.nanoseconds\n",
    "md_steps = int(round(md_time/timestep))\n",
    "saving_time = 10*unit.picoseconds\n",
    "saving_steps = int(round(saving_time/timestep))"
   ]
  },
  {
   "cell_type": "code",
   "execution_count": 18,
   "id": "e994d300-5937-487a-a020-e729e999fb63",
   "metadata": {},
   "outputs": [],
   "source": [
    "report_interval = int(round(1.0*unit.nanoseconds/timestep))\n",
    "tqdm_reporter = msm.thirds.openmm.reporters.TQDMReporter(report_interval, md_steps)"
   ]
  },
  {
   "cell_type": "code",
   "execution_count": 19,
   "id": "c6e3f755-c032-4c86-a6ab-89161918e01d",
   "metadata": {},
   "outputs": [],
   "source": [
    "report_interval = saving_steps\n",
    "h5msm_reporter = msm.thirds.openmm.reporters.H5MSMReporter('traj.h5msm', report_interval, md_steps)"
   ]
  },
  {
   "cell_type": "code",
   "execution_count": 20,
   "id": "a30c8413-5e2f-4e41-a3a9-884c62eafcb2",
   "metadata": {},
   "outputs": [],
   "source": [
    "simulation.reporters+=[tqdm_reporter, h5msm_reporter]"
   ]
  },
  {
   "cell_type": "code",
   "execution_count": 21,
   "id": "ea030799-0695-4841-9aad-49f0fc8f58c0",
   "metadata": {},
   "outputs": [
    {
     "data": {
      "application/vnd.jupyter.widget-view+json": {
       "model_id": "84e1579ef5104c70b2cede22032121ba",
       "version_major": 2,
       "version_minor": 0
      },
      "text/plain": [
       "  0%|          | 0/250000000 [00:00<?, ?it/s]"
      ]
     },
     "metadata": {},
     "output_type": "display_data"
    },
    {
     "name": "stdout",
     "output_type": "stream",
     "text": [
      "\n",
      "Potential energy: -24025.93 kJ/mol ± 464.30 kJ/mol\n",
      "Temperature: 400.44 K ± 8.62 K\n",
      "\n",
      "Execution time: 0 days, 12 hours, 13 minutes, and 37.03 seconds (981.438 ns/day).\n",
      "\n"
     ]
    }
   ],
   "source": [
    "simulation.step(md_steps)"
   ]
  },
  {
   "cell_type": "code",
   "execution_count": 22,
   "id": "6f5c4104-b4fc-4976-b941-3793488ed69f",
   "metadata": {},
   "outputs": [],
   "source": [
    "h5msm_reporter.close()"
   ]
  },
  {
   "cell_type": "code",
   "execution_count": null,
   "id": "e2cd669e-c84e-4538-a546-58b1e5cec5cb",
   "metadata": {},
   "outputs": [],
   "source": []
  }
 ],
 "metadata": {
  "kernelspec": {
   "display_name": "Python 3 (ipykernel)",
   "language": "python",
   "name": "python3"
  },
  "language_info": {
   "codemirror_mode": {
    "name": "ipython",
    "version": 3
   },
   "file_extension": ".py",
   "mimetype": "text/x-python",
   "name": "python",
   "nbconvert_exporter": "python",
   "pygments_lexer": "ipython3",
   "version": "3.12.10"
  }
 },
 "nbformat": 4,
 "nbformat_minor": 5
}

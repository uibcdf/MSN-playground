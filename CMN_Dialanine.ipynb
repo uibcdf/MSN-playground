{
 "cells": [
  {
   "cell_type": "code",
   "execution_count": 5,
   "id": "59e84294-7b4f-4f56-8808-d2a4f9733001",
   "metadata": {},
   "outputs": [],
   "source": [
    "import pickle\n",
    "import pyunitwizard as puw"
   ]
  },
  {
   "cell_type": "code",
   "execution_count": 2,
   "id": "d232e9dc-1720-49fd-a97a-818135a003e6",
   "metadata": {},
   "outputs": [],
   "source": [
    "with open('trajectory_phipsi.pkl', 'rb') as f:\n",
    "    trajectory_phipsi = pickle.load(f)"
   ]
  },
  {
   "cell_type": "code",
   "execution_count": 10,
   "id": "cf9ca6fe-a75a-4dd6-956c-d5375d4f7f63",
   "metadata": {},
   "outputs": [],
   "source": [
    "delta_phi = puw.quantity(360.0/40, 'degrees')\n",
    "delta_psi = delta_phi\n",
    "\n",
    "lim_inf_phi = puw.quantity(-180.0, 'degrees')\n",
    "lim_inf_psi = puw.quantity(-180.0, 'degrees')"
   ]
  },
  {
   "cell_type": "code",
   "execution_count": 11,
   "id": "3b1a2b82-849a-4a0e-93d6-9c96c9c5d174",
   "metadata": {},
   "outputs": [],
   "source": [
    "trajectory_phipsi -= [lim_inf_phi, lim_inf_psi]\n",
    "trajectory_phipsi "
   ]
  },
  {
   "cell_type": "code",
   "execution_count": null,
   "id": "ba42a548-873e-453e-9698-7f865db591e1",
   "metadata": {},
   "outputs": [],
   "source": []
  }
 ],
 "metadata": {
  "kernelspec": {
   "display_name": "Python 3 (ipykernel)",
   "language": "python",
   "name": "python3"
  },
  "language_info": {
   "codemirror_mode": {
    "name": "ipython",
    "version": 3
   },
   "file_extension": ".py",
   "mimetype": "text/x-python",
   "name": "python",
   "nbconvert_exporter": "python",
   "pygments_lexer": "ipython3",
   "version": "3.12.10"
  }
 },
 "nbformat": 4,
 "nbformat_minor": 5
}

{
 "cells": [
  {
   "cell_type": "code",
   "execution_count": 1,
   "id": "59e84294-7b4f-4f56-8808-d2a4f9733001",
   "metadata": {},
   "outputs": [],
   "source": [
    "import pickle\n",
    "import pyunitwizard as puw\n",
    "import numpy as np\n",
    "from matplotlib import pyplot as plt"
   ]
  },
  {
   "cell_type": "code",
   "execution_count": 2,
   "id": "d232e9dc-1720-49fd-a97a-818135a003e6",
   "metadata": {},
   "outputs": [],
   "source": [
    "with open('trajectory_phipsi.pkl', 'rb') as f:\n",
    "    trajectory_phipsi = pickle.load(f)"
   ]
  },
  {
   "cell_type": "code",
   "execution_count": 3,
   "id": "d3cf385c-f4bc-4ec3-bdcb-59360ebe010f",
   "metadata": {},
   "outputs": [],
   "source": [
    "trajectory_phipsi = trajectory_phipsi.magnitude"
   ]
  },
  {
   "cell_type": "code",
   "execution_count": 4,
   "id": "710b1615-9a83-40dc-b7ce-0d7e98658402",
   "metadata": {},
   "outputs": [],
   "source": [
    "lim_inf_phi = -180.0\n",
    "n_bins_phi = 40\n",
    "delta_phi = 360.0/n_bins_phi\n",
    "trajectory_phipsi[:,0] = (trajectory_phipsi[:,0]-lim_inf_phi)/delta_phi"
   ]
  },
  {
   "cell_type": "code",
   "execution_count": 5,
   "id": "cf9b8271-def9-4ead-be2a-8772055ac20c",
   "metadata": {},
   "outputs": [],
   "source": [
    "lim_inf_psi = -180.0\n",
    "n_bins_psi = 40\n",
    "delta_psi = 360.0/n_bins_psi\n",
    "trajectory_phipsi[:,1] = (trajectory_phipsi[:,1]-lim_inf_psi)/delta_psi"
   ]
  },
  {
   "cell_type": "code",
   "execution_count": 6,
   "id": "1746e0f0-c934-47a3-a35c-1a241ffea7bf",
   "metadata": {},
   "outputs": [],
   "source": [
    "trajectory_phipsi_bins = trajectory_phipsi.astype(int)"
   ]
  },
  {
   "cell_type": "code",
   "execution_count": 7,
   "id": "54eed457-2139-4274-b664-39e20a86f644",
   "metadata": {},
   "outputs": [],
   "source": [
    "frequency_matrix = np.zeros((n_bins_phi, n_bins_psi), dtype=int)"
   ]
  },
  {
   "cell_type": "code",
   "execution_count": 8,
   "id": "e72fb500-222b-4eb5-a3c4-fa2b5a579319",
   "metadata": {},
   "outputs": [],
   "source": [
    "for ii,jj in trajectory_phipsi_bins:\n",
    "    frequency_matrix[ii,jj]+=1"
   ]
  },
  {
   "cell_type": "code",
   "execution_count": 9,
   "id": "8af84777-4457-4636-8813-ceaa91e0f727",
   "metadata": {},
   "outputs": [
    {
     "name": "stderr",
     "output_type": "stream",
     "text": [
      "/tmp/ipykernel_1384061/3014311438.py:2: RuntimeWarning: divide by zero encountered in log\n",
      "  free_energy_matrix = -np.log(frequency_matrix/sum_frequencies)\n"
     ]
    }
   ],
   "source": [
    "sum_frequencies = frequency_matrix.sum()\n",
    "free_energy_matrix = -np.log(frequency_matrix/sum_frequencies)"
   ]
  },
  {
   "cell_type": "code",
   "execution_count": 10,
   "id": "9abdc67e-98fe-4df3-a95a-6868556a85fb",
   "metadata": {},
   "outputs": [
    {
     "data": {
      "image/png": "[encoded data removed]",
      "text/plain": [
       "<Figure size 640x480 with 2 Axes>"
      ]
     },
     "metadata": {},
     "output_type": "display_data"
    }
   ],
   "source": [
    "fig, ax = plt.subplots()\n",
    "\n",
    "heatmap = ax.imshow(free_energy_matrix.T, origin='lower', vmin=free_energy_matrix.min(), vmax=-np.log(1.0/sum_frequencies), cmap='viridis')\n",
    "\n",
    "# Agrega la barra de color\n",
    "cbar = plt.colorbar(heatmap, ax=ax)\n",
    "cbar.set_label('Free Energy')\n",
    "\n",
    "# Opcional: etiquetas de ejes\n",
    "ax.set_xlabel('Phi (°)')\n",
    "ax.set_ylabel('Psi (°)')\n",
    "\n",
    "plt.title(\"Ramachandran Plot\")\n",
    "plt.show()"
   ]
  },
  {
   "cell_type": "code",
   "execution_count": 11,
   "id": "bf517f97-af1e-4c63-b91b-c9190ea52e45",
   "metadata": {},
   "outputs": [],
   "source": [
    "import networkx as nx\n",
    "\n",
    "G_freqs = nx.DiGraph()"
   ]
  },
  {
   "cell_type": "code",
   "execution_count": 12,
   "id": "c816b04f-79d8-42a6-b96e-bfd2afe1f38e",
   "metadata": {},
   "outputs": [],
   "source": [
    "prev_node = None\n",
    "\n",
    "for ii,jj in trajectory_phipsi_bins:\n",
    "    node = (ii,jj)\n",
    "\n",
    "    if node not in G_freqs:\n",
    "        G_freqs.add_node(node, weight=1)\n",
    "    else:\n",
    "        G_freqs.nodes[node]['weight'] += 1\n",
    "\n",
    "    if prev_node is not None:\n",
    "        if G_freqs.has_edge(prev_node, node):\n",
    "            G_freqs[prev_node][node]['weight'] += 1\n",
    "        else:\n",
    "            G_freqs.add_edge(prev_node, node, weight=1)\n",
    "\n",
    "    prev_node = node"
   ]
  },
  {
   "cell_type": "code",
   "execution_count": 15,
   "id": "cb1bd183-3f96-486a-8884-3f99246dc19f",
   "metadata": {},
   "outputs": [],
   "source": [
    "G_prob = G_freqs.copy()\n",
    "\n",
    "for u, v, data in G_prob.edges(data=True):\n",
    "    transition_prob = data['weight'] / G_prob.nodes[u]['weight']\n",
    "    data['weight'] = transition_prob\n",
    "\n",
    "total_node_weight = sum(data['weight'] for _, data in G_prob.nodes(data=True))\n",
    "\n",
    "for u, data in G_prob.nodes(data=True):\n",
    "    data['weight'] /= total_node_weight  "
   ]
  },
  {
   "cell_type": "code",
   "execution_count": 16,
   "id": "c9d69d67-677a-4545-b7c4-46e3d114bd6c",
   "metadata": {},
   "outputs": [],
   "source": [
    "import pickle\n",
    "\n",
    "with open(\"raw_cmsn_dialanine.pkl\", \"wb\") as fff:\n",
    "    pickle.dump(G_freqs, fff)\n",
    "\n",
    "with open(\"cmsn_dialanine.pkl\", \"wb\") as fff:\n",
    "    pickle.dump(G_prob, fff)"
   ]
  }
 ],
 "metadata": {
  "kernelspec": {
   "display_name": "Python 3 (ipykernel)",
   "language": "python",
   "name": "python3"
  },
  "language_info": {
   "codemirror_mode": {
    "name": "ipython",
    "version": 3
   },
   "file_extension": ".py",
   "mimetype": "text/x-python",
   "name": "python",
   "nbconvert_exporter": "python",
   "pygments_lexer": "ipython3",
   "version": "3.12.10"
  }
 },
 "nbformat": 4,
 "nbformat_minor": 5
}

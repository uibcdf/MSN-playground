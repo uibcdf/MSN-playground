{
 "cells": [
  {
   "cell_type": "code",
   "execution_count": 8,
   "id": "89e81349-058e-474b-beb4-3db2eb382fa7",
   "metadata": {},
   "outputs": [],
   "source": [
    "import molsysmt as msm\n",
    "import pyunitwizard as puw"
   ]
  },
  {
   "cell_type": "code",
   "execution_count": 2,
   "id": "64f19c68-ff92-4976-b047-06f9afcb23ac",
   "metadata": {},
   "outputs": [],
   "source": [
    "dialanine = msm.build.build_peptide('AceAlaNme')"
   ]
  },
  {
   "cell_type": "code",
   "execution_count": 4,
   "id": "cc80a813-0f86-4b6d-91ee-80ba1238f4f6",
   "metadata": {},
   "outputs": [],
   "source": [
    "msm.structure.center(dialanine, in_place=True)"
   ]
  },
  {
   "cell_type": "code",
   "execution_count": 5,
   "id": "3770bb2c-49a3-4fac-942c-7a31ee7c2a4f",
   "metadata": {},
   "outputs": [],
   "source": [
    "dialanine = msm.build.solvate(dialanine, box_shape='rhombic dodecahedral',\n",
    "                              clearance='14.0 angstroms')"
   ]
  },
  {
   "cell_type": "code",
   "execution_count": 6,
   "id": "fe8c986b-3d6b-4d09-ba7a-2243fb5c663d",
   "metadata": {},
   "outputs": [
    {
     "data": {
      "text/html": [
       "<style type=\"text/css\">\n",
       "</style>\n",
       "<table id=\"T_0f2e7\">\n",
       "  <thead>\n",
       "    <tr>\n",
       "      <th id=\"T_0f2e7_level0_col0\" class=\"col_heading level0 col0\" >form</th>\n",
       "      <th id=\"T_0f2e7_level0_col1\" class=\"col_heading level0 col1\" >n_atoms</th>\n",
       "      <th id=\"T_0f2e7_level0_col2\" class=\"col_heading level0 col2\" >n_groups</th>\n",
       "      <th id=\"T_0f2e7_level0_col3\" class=\"col_heading level0 col3\" >n_components</th>\n",
       "      <th id=\"T_0f2e7_level0_col4\" class=\"col_heading level0 col4\" >n_chains</th>\n",
       "      <th id=\"T_0f2e7_level0_col5\" class=\"col_heading level0 col5\" >n_molecules</th>\n",
       "      <th id=\"T_0f2e7_level0_col6\" class=\"col_heading level0 col6\" >n_entities</th>\n",
       "      <th id=\"T_0f2e7_level0_col7\" class=\"col_heading level0 col7\" >n_waters</th>\n",
       "      <th id=\"T_0f2e7_level0_col8\" class=\"col_heading level0 col8\" >n_peptides</th>\n",
       "      <th id=\"T_0f2e7_level0_col9\" class=\"col_heading level0 col9\" >n_structures</th>\n",
       "    </tr>\n",
       "  </thead>\n",
       "  <tbody>\n",
       "    <tr>\n",
       "      <td id=\"T_0f2e7_row0_col0\" class=\"data row0 col0\" >molsysmt.MolSys</td>\n",
       "      <td id=\"T_0f2e7_row0_col1\" class=\"data row0 col1\" >649</td>\n",
       "      <td id=\"T_0f2e7_row0_col2\" class=\"data row0 col2\" >212</td>\n",
       "      <td id=\"T_0f2e7_row0_col3\" class=\"data row0 col3\" >210</td>\n",
       "      <td id=\"T_0f2e7_row0_col4\" class=\"data row0 col4\" >2</td>\n",
       "      <td id=\"T_0f2e7_row0_col5\" class=\"data row0 col5\" >210</td>\n",
       "      <td id=\"T_0f2e7_row0_col6\" class=\"data row0 col6\" >2</td>\n",
       "      <td id=\"T_0f2e7_row0_col7\" class=\"data row0 col7\" >209</td>\n",
       "      <td id=\"T_0f2e7_row0_col8\" class=\"data row0 col8\" >1</td>\n",
       "      <td id=\"T_0f2e7_row0_col9\" class=\"data row0 col9\" >1</td>\n",
       "    </tr>\n",
       "  </tbody>\n",
       "</table>\n"
      ],
      "text/plain": [
       "<pandas.io.formats.style.Styler at 0x7f2ff2372330>"
      ]
     },
     "execution_count": 6,
     "metadata": {},
     "output_type": "execute_result"
    }
   ],
   "source": [
    "msm.info(dialanine)"
   ]
  },
  {
   "cell_type": "code",
   "execution_count": 7,
   "id": "1251bda5-355f-4835-a96d-f96a84c5869b",
   "metadata": {},
   "outputs": [],
   "source": [
    "topology = msm.convert(dialanine, to_form='openmm.topology')"
   ]
  },
  {
   "cell_type": "code",
   "execution_count": 9,
   "id": "177c211c-4872-49fe-bb33-cacf484e8abc",
   "metadata": {},
   "outputs": [],
   "source": [
    "positions = msm.get(dialanine, coordinates=True)\n",
    "positions = puw.convert(positions[0], to_form='openmm.unit')"
   ]
  },
  {
   "cell_type": "code",
   "execution_count": null,
   "id": "89da48d1-d8d1-4107-b3cb-5f481afa75c6",
   "metadata": {},
   "outputs": [],
   "source": []
  }
 ],
 "metadata": {
  "kernelspec": {
   "display_name": "Python 3 (ipykernel)",
   "language": "python",
   "name": "python3"
  },
  "language_info": {
   "codemirror_mode": {
    "name": "ipython",
    "version": 3
   },
   "file_extension": ".py",
   "mimetype": "text/x-python",
   "name": "python",
   "nbconvert_exporter": "python",
   "pygments_lexer": "ipython3",
   "version": "3.12.10"
  }
 },
 "nbformat": 4,
 "nbformat_minor": 5
}
